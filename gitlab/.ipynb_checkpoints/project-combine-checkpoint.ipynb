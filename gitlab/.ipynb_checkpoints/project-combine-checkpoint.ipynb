{
 "cells": [
  {
   "cell_type": "markdown",
   "metadata": {},
   "source": [
    "# Practice: First Hydro-dynamical PDE models"
   ]
  },
  {
   "cell_type": "markdown",
   "metadata": {},
   "source": [
    "In our case, as modelers of stellar atmospheres, we are primarily interested in solving the equations of mass, momentum, and energy balance, along with the equations governing the evolution of the magnetic field, the transport equations for the radiation field, heat flux equations, etc. "
   ]
  },
  {
   "cell_type": "markdown",
   "metadata": {},
   "source": [
    "$ \\frac{\\partial \\rho}{\\partial t} + \\nabla \\cdot (\\rho \\bf u) = 0 $\n",
    "\n",
    "$ \\frac{\\partial \\rho {\\bf u}}{\\partial t} + \\nabla \\cdot (\\rho {\\bf u} {\\bf u}) = - \\nabla (P_g)$\n",
    "\n",
    "$ \\frac{\\partial e}{\\partial t } = -\\nabla\\cdot e {\\bf u} -P_g \\nabla \\cdot {\\bf u}$\n",
    "\n",
    "where $\\rho$, $\\bf u$, $P_g$, and $e$ are the density, velocity vector, gas pressure, and internal energy. There is one extra equation that needs to connect the pressure with the energy. For this you can use $P_g  = (\\gamma-1)e/\\rho$ where $\\gamma=5/3$. "
   ]
  },
  {
   "cell_type": "markdown",
   "metadata": {},
   "source": [
    "### 1- Build your code \n",
    "\n",
    "Build your hydro-dynamical (HD) numerical code applying the tools/functions learned during the 6th different assessment. Solve the above set of equations in one dimension. __A plus__ implement the Bifrost 6th order spatial derivative, 5th order spatial interpolation with the hyper-diffusion scheme (see wiki). "
   ]
  },
  {
   "cell_type": "markdown",
   "metadata": {},
   "source": [
    "### 2- Test the code\n",
    "\n",
    "Set your code to run a 1D problem and using the following initial conditions. The fluid is initially at rest on either side of a density and pressure jump. To the left, respectively right side of the interface, we have: \n",
    "\n",
    "$\\rho_L = 0.125$\n",
    "\n",
    "$\\rho_R = 1.0$\n",
    "\n",
    "$Pg_L = 0.125/\\gamma$\n",
    "\n",
    "$Pg_R = 1.0/\\gamma$\n",
    "\n",
    "The ratio of specific heats is chosen to be $\\gamma = 5/3$ on both sides of the interface. The units are normalized, with the density and pressure in units of the density and pressure on the left-hand side of the jump and the velocity in units of the sound speed. The length is in unit of the size of the domain and the time in units of the time required to cross the domain at the speed of sound.\n",
    "\n",
    "What boundary conditions would you choose?\n",
    "What do you see? \n",
    "\n",
    "This is known as the Sod-shock tube test (Sod et al. 1978), a standard test in computational HD codes. It consists of a one-dimensional flow discontinuity problem that provides a good test of a compressible code’s ability to capture shocks and contact discontinuities within a few grid zones and produce the correct density profile in a rarefaction wave. The test can also be used to check if the code can satisfy the Rankine-Hugoniot shock jump conditions since this test has an analytical solution (see wiki).\n",
    " \n",
    "Compare the simulation with the analytical solution. This could be used for the sanity test. \n",
    "\n"
   ]
  },
  {
   "cell_type": "markdown",
   "metadata": {},
   "source": [
    "### 3-  Add a new source terms: Thermal conduction \n",
    "\n",
    "Expand the HD equations by adding thermal conduction and gravity: \n",
    "\n",
    "$ \\frac{\\partial \\rho}{\\partial t} + \\nabla \\cdot (\\rho \\bf u) = 0 $\n",
    "\n",
    "$ \\frac{\\partial \\rho {\\bf u}}{\\partial t} + \\nabla \\cdot (\\rho {\\bf u} {\\bf u}) = - \\nabla (P_g) + \\rho {\\bf g}$\n",
    "\n",
    "$ \\frac{\\partial e}{\\partial t } = -\\nabla\\cdot e {\\bf u} -P_g \\nabla \\cdot {\\bf u} + \\nabla \\kappa \\nabla T_g $\n",
    "\n",
    "Use the ideal equation of state: \n",
    "\n",
    "$P_g = n K_B T_g$\n",
    "\n",
    "where $n$ is the number of particles. You can assume that everything is hydrogen. $K_B$ is the Boltzman constant. $\\kappa$ is the thermal coefficient. \n",
    "\n",
    "Note that this term is diffusive. Which numerical scheme would you use to avoid stiffness? \n",
    "\n",
    "__Challenge__: Consider a Super-Time-Stepping method [See Ex_5](https://gitlab.com/ast5110_course/ast5110/-/blob/master/ex_5a.ipynb) and [see also Nobrega-Siverio et al. 2020](https://ui.adsabs.harvard.edu/abs/2020A%26A...638A..79N/abstract)\n",
    "\n",
    "#### 3a- Test the code. \n",
    "\n",
    "Use the same asymptotical solutions to test the thermal conduction term as in [Ex_5](https://gitlab.com/ast5110_course/ast5110/-/blob/master/ex_5a.ipynb)\n",
    "        \n",
    "    "
   ]
  },
  {
   "cell_type": "markdown",
   "metadata": {},
   "source": [
    "### 4- Experiments (choose one): \n",
    "\n",
    "#### 4a- (nano)-flares in the corona (Avijeet Prasat).  \n",
    "\n",
    "Add an ad-hoc source term: \n",
    "\n",
    "$ \\frac{\\partial \\rho}{\\partial t} + \\nabla \\cdot (\\rho \\bf u) = 0 $\n",
    "\n",
    "$ \\frac{\\partial \\rho {\\bf u}}{\\partial t} + \\nabla \\cdot (\\rho {\\bf u} {\\bf u}) = - \\nabla (P_g) + \\rho {\\bf g}$\n",
    "\n",
    "$ \\frac{\\partial e}{\\partial t } = -\\nabla\\cdot e {\\bf u} -P_g \\nabla \\cdot {\\bf u} + \\nabla \\kappa \\nabla T_g + S(x,t)$\n",
    "\n",
    "where $S(x,t)$ is the ad-hoc source term which depend in space and time and it will have the follosing description: \n",
    "\n",
    "$S(x,t) = A \\exp(-(x-x_0)^2/W_s) \\exp(-(t-t_0)^2/W_t)$\n",
    "\n",
    "where $A$ is the amplitud, $W_s$ the spatial width of the Gaussian centered at $x_0$, and $W_s$ the temporal width of the Gaussian centered at $t_0$. Consider different $W_s$ ranging from a few tens of km to a few Mm and $W_t$ ranging from a few fraction of second a 100s. \n",
    "\n",
    "For the initial condition: implement the same initial scenario as in [Heggland et al. 2007](https://iopscience.iop.org/article/10.1086/518828/pdf). Consider various density/temperature levels in the corona. \n",
    "\n",
    "One of the candidates to heat the corona is due to braiding of the magnetic field. Braiding can produce episodic (flaring) and localized heating in the solar atmosphere which is propagated along the magnetic field lines via thermal condaction or electron beams. The energy released on these flaring events can go from nano-flares to class X flares. Consider a 1D stratified atmosphere and invesgate the energy deposition along the 1D atmosphere for various background stratifications and energies for the flaring events. Where are you going to put the source? How does it travel? Compare with what we have learned from the assymptotic solution in [Ex_5](https://gitlab.com/ast5110_course/ast5110/-/blob/master/ex_5a.ipynb). Can you see evaporation? \n",
    "\n",
    "The parameter range is huge for this exercise ($W_s$, $W_t$, A, and initial conditions). Play with one thing at a time. No need to do all possibilities. \n",
    "\n",
    "#### 4b- Role of spicules in the corona. (Mats Ola Sand, Jonas Thoen Faber?)\n",
    "\n",
    "The kinetic energy in the chromosphere is more than 100 times larger than the total energy required to maintain the million-degrees corona. Large part of this kinetic energy is in the form of shocks which are \"channeled\" along the magnetic field forming so-called spicules. Hinode and IRIS observations revealed that the corona is continously protrused anywhere from the chromosphere at any time by spicules of various types. So, it is of great interest on understanding the role of these spicules in the associated coronal-loops. With your code, from a stratified atmosphere such as the one in [Heggland et al. 2007](https://iopscience.iop.org/article/10.1086/518828/pdf) you will investigate how shocks travel in the chromosphere, transition region and corona. For this, following this reference, drive the bottom boundary with acoustic waves at different frequencies and amplitudes. Can you recognice the different features as the sod-shock test? What is the impact of the thermal conduction in the corona when a shocks travel through? \n",
    "\n",
    "TBD: Provide different project to Mats and Jonas, another possibility is to focus in the chromosphere, i.e., no thermal conduction, BUT adding viscosity (and try to reach typical values in the chromosphere and see how shocks dissipate in there). \n"
   ]
  },
  {
   "cell_type": "markdown",
   "metadata": {},
   "source": [
    "### 3-  Two system of equations: two fluids (Steffen Brask). \n",
    "\n",
    "The chromosphere, transition region and corona can be weakly collisional. Therefore, different fluids or species can experience different forces and consequently drift with other fluids. Consequently, under this conditions, single fluid equations are not accurate enough. The presence of velocity drift between fluids could be eventually dissipate and heat the plasma. \n",
    "\n",
    "Duplicate the HD equations by two and couple them with the momentum and energy exchange as follows: \n",
    "\n",
    "$ \\frac{\\partial \\rho_\\alpha}{\\partial t} + \\nabla \\cdot (\\rho_\\alpha \\bf u_\\alpha) = 0 $\n",
    "\n",
    "$ \\frac{\\partial \\rho_\\alpha {\\bf u_\\alpha}}{\\partial t} + \\nabla \\cdot (\\rho_\\alpha {\\bf u_\\alpha} {\\bf u_\\alpha}) = - \\nabla (P_{g\\alpha}) + \\rho_\\alpha \\nu_{\\alpha\\beta}(u_\\alpha-u_\\beta)$\n",
    "\n",
    "$ \\frac{\\partial e_\\alpha}{\\partial t } = -\\nabla\\cdot e_\\alpha {\\bf u_\\alpha} -P_{g\\alpha} \\nabla \\cdot {\\bf u_\\alpha} + Q_{\\alpha}^{\\alpha\\beta}$\n",
    "\n",
    "where $\\alpha= [i,n]$ and $\\beta$ refer either to ions $i$ or neutrals $n$. For simplicity, lets assume hydrogen and protons and consider to impose a fix collision frequency. Due to conservation $\\rho_\\alpha \\nu_{\\alpha\\beta}=\\rho_\\beta \\nu_{\\beta\\alpha}$. \n",
    "\n",
    "\n",
    "$Q_{\\alpha}^{\\alpha\\beta} = \\frac{n_{\\alpha} m_{\\alpha} \\nu_{\\alpha \\beta}}{m_{\\alpha}+m_{\\beta}} \\left[m_{\\beta}(\\vec{u}_\\beta - \\vec{u}_\\alpha)^2+\\frac{2 k_B}{\\gamma-1} \\left(T_{\\beta}-T_{\\alpha}\\right)\\right]$\n",
    "\n",
    "where $m_{\\alpha\\beta} = \\frac{m_{\\alpha}m_{\\beta}}{m_{\\alpha}+m_{\\beta}}$, and for this exercise, since we assume only hydrogen, $m_\\alpha \\approx m_\\beta$ is a good proxy. \n"
   ]
  },
  {
   "cell_type": "markdown",
   "metadata": {},
   "source": [
    "#### 3a- Test the code: \n",
    "\n",
    "There are two easy types of test. \n",
    "\n",
    "    1) Consider an scenario with no heating sources and constant collision frequency. In that case, it is simple to compute the slope in loglog scale of the velocity drift. \n",
    "        1a) What would happen in you turn $Q^{\\alpha\\beta}_\\alpha$ on? \n",
    "    2) Assuming zero velocity drift, what would be the temperature evolution when the two fluids are different? \n",
    "    "
   ]
  },
  {
   "cell_type": "markdown",
   "metadata": {},
   "source": [
    "### 4- Energy dissipated in the chromosphere. \n",
    "\n",
    "Ion-neutral interaction can play a big role on dissipating the magnetic energy. The figure below (needs to be added) reveals the collision frequency parameter range within the chromosphere and a zero order of the velocity drift. Use the numerical code to provide a better understanding on the time-scale of the heating and daming mechanism within the chromosphere. "
   ]
  },
  {
   "cell_type": "markdown",
   "metadata": {},
   "source": [
    "### 3-  2D models (Kilian Krikova) \n",
    "\n",
    "Expand the following equations into a two (or three) dimensions. \n",
    "\n",
    "$ \\frac{\\partial \\rho}{\\partial t} + \\nabla \\cdot (\\rho \\bf u) = 0 $\n",
    "\n",
    "$ \\frac{\\partial \\rho {\\bf u}}{\\partial t} + \\nabla \\cdot (\\rho {\\bf u} {\\bf u}) = - \\nabla (P_g)$\n",
    "\n",
    "$ \\frac{\\partial e}{\\partial t } = -\\nabla\\cdot e {\\bf u} -P_g \\nabla \\cdot {\\bf u}$\n",
    "\n",
    "Consider to implement Bifrost numerical scheme (derivations, interpolations and hyper diffusive term). \n",
    "\n",
    "#### 3a (Torstain Solheim Ølberg) \n",
    "\n",
    "Consider to add \"fancy\" tools that will facilitate _gui_ tools, for instance, implement everything with xarray. \n",
    "\n",
    "#### 3b- Test the code: \n",
    "\n",
    "TBD\n"
   ]
  },
  {
   "cell_type": "markdown",
   "metadata": {},
   "source": [
    "### 4- \"chromospheric\"-coronal transitions: Prominences and spicules\n",
    "\n",
    "Kelvin-Helmhotz instability: Spicules are highly dynamic cold dens material traveling into the million degrees corona. Investigate the shear, vortices, scales, and mixing with the following initial setup:\n",
    "\n",
    "Rayleigh-Taylor instability: Solar Prominences are cold dens material embebed in the million degrees corona. Investigate the vortices, scales, and mixing with the following initial setup:"
   ]
  },
  {
   "cell_type": "markdown",
   "metadata": {},
   "source": [
    "### 3- 2D and rays (Aditi Bhatnagar and Michael Haar)"
   ]
  },
  {
   "cell_type": "markdown",
   "metadata": {},
   "source": [
    "### 3- 1.5D Magnetic field (Eilif Sommer Øyre)"
   ]
  },
  {
   "cell_type": "code",
   "execution_count": null,
   "metadata": {},
   "outputs": [],
   "source": []
  }
 ],
 "metadata": {
  "kernelspec": {
   "display_name": "Python 3",
   "language": "python",
   "name": "python3"
  },
  "language_info": {
   "codemirror_mode": {
    "name": "ipython",
    "version": 3
   },
   "file_extension": ".py",
   "mimetype": "text/x-python",
   "name": "python",
   "nbconvert_exporter": "python",
   "pygments_lexer": "ipython3",
   "version": "3.8.5"
  }
 },
 "nbformat": 4,
 "nbformat_minor": 4
}
